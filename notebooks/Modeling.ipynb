{
 "cells": [
  {
   "cell_type": "markdown",
   "metadata": {
    "id": "Y0I2_szKf47R"
   },
   "source": [
    "### Importing Library"
   ]
  },
  {
   "cell_type": "code",
   "execution_count": null,
   "metadata": {
    "id": "_z2kq-zYeZpJ"
   },
   "outputs": [],
   "source": [
    "import pandas as pd\n",
    "import matplotlib.pyplot as plt\n",
    "import seaborn as sns\n",
    "from sklearn.metrics import roc_curve, auc, precision_recall_curve, confusion_matrix\n",
    "import numpy as np\n",
    "import time\n",
    "\n",
    "\n",
    "\n",
    "from pyspark.sql import SparkSession\n",
    "from pyspark.sql import functions as F\n",
    "from pyspark.sql.window import Window\n",
    "\n",
    "from pyspark.sql.functions import col, count, when, mean,expr, avg, stddev\n",
    "from pyspark.sql.functions import udf\n",
    "from pyspark.ml.feature import VectorAssembler, StringIndexer, MinMaxScaler\n",
    "from pyspark.ml.classification import RandomForestClassifier\n",
    "from pyspark.ml import Pipeline\n",
    "from pyspark.ml.evaluation import BinaryClassificationEvaluator, MulticlassClassificationEvaluator\n",
    "from pyspark.ml.tuning import ParamGridBuilder, CrossValidator, TrainValidationSplit\n",
    "\n",
    "from pyspark.sql.types import DoubleType\n",
    "from geopy.distance import geodesic"
   ]
  },
  {
   "cell_type": "code",
   "execution_count": null,
   "metadata": {
    "colab": {
     "base_uri": "https://localhost:8080/"
    },
    "id": "gPSvWAoXgdWy",
    "outputId": "ebdeaea2-dff8-4493-fc56-73f72b318c4b"
   },
   "outputs": [
    {
     "name": "stdout",
     "output_type": "stream",
     "text": [
      "Path to dataset files: /kaggle/input/fraud-detection\n"
     ]
    }
   ],
   "source": [
    "import os\n",
    "# Change KAGGLEHUB_CACHE to '/kaggle/working'\n",
    "os.environ['KAGGLEHUB_CACHE'] = '/kaggle/working'\n",
    "\n",
    "import kagglehub\n",
    "\n",
    "# Download latest version\n",
    "path = kagglehub.dataset_download(\"kartik2112/fraud-detection\")\n",
    "\n",
    "print(\"Path to dataset files:\", path)"
   ]
  },
  {
   "cell_type": "markdown",
   "metadata": {
    "id": "sPLvpA9Vgdmd"
   },
   "source": [
    "### Initialize Spark"
   ]
  },
  {
   "cell_type": "code",
   "execution_count": null,
   "metadata": {
    "id": "U9WgMxD3e7dt"
   },
   "outputs": [],
   "source": [
    "from pyspark import SparkConf\n",
    "\n",
    "conf = SparkConf() \\\n",
    "    .setAppName(\"FraudDetection\") \\\n",
    "    .setMaster(\"local[*]\") \\\n",
    "    .set(\"spark.executor.memory\", \"8g\") \\\n",
    "    .set(\"spark.driver.memory\",   \"4g\") \\\n",
    "    .set(\"spark.sql.shuffle.partitions\", \"20\")\n",
    "\n",
    "spark = SparkSession.builder \\\n",
    "    .config(conf=conf) \\\n",
    "    .getOrCreate()"
   ]
  },
  {
   "cell_type": "code",
   "execution_count": null,
   "metadata": {
    "id": "g59MFnYifd7I"
   },
   "outputs": [],
   "source": [
    "train_path = \"/kaggle/input/fraud-detection/fraudTrain.csv\"\n",
    "\n",
    "df = spark.read.csv(train_path, header=True, inferSchema=True)"
   ]
  },
  {
   "cell_type": "code",
   "execution_count": null,
   "metadata": {
    "colab": {
     "base_uri": "https://localhost:8080/"
    },
    "id": "57ktxsyRfxvT",
    "outputId": "4a33a62b-93e5-4436-d376-10040b1827d5"
   },
   "outputs": [
    {
     "name": "stdout",
     "output_type": "stream",
     "text": [
      "root\n",
      " |-- _c0: integer (nullable = true)\n",
      " |-- trans_date_trans_time: timestamp (nullable = true)\n",
      " |-- cc_num: long (nullable = true)\n",
      " |-- merchant: string (nullable = true)\n",
      " |-- category: string (nullable = true)\n",
      " |-- amt: double (nullable = true)\n",
      " |-- first: string (nullable = true)\n",
      " |-- last: string (nullable = true)\n",
      " |-- gender: string (nullable = true)\n",
      " |-- street: string (nullable = true)\n",
      " |-- city: string (nullable = true)\n",
      " |-- state: string (nullable = true)\n",
      " |-- zip: integer (nullable = true)\n",
      " |-- lat: double (nullable = true)\n",
      " |-- long: double (nullable = true)\n",
      " |-- city_pop: integer (nullable = true)\n",
      " |-- job: string (nullable = true)\n",
      " |-- dob: date (nullable = true)\n",
      " |-- trans_num: string (nullable = true)\n",
      " |-- unix_time: integer (nullable = true)\n",
      " |-- merch_lat: double (nullable = true)\n",
      " |-- merch_long: double (nullable = true)\n",
      " |-- is_fraud: integer (nullable = true)\n",
      "\n"
     ]
    }
   ],
   "source": [
    "df.printSchema()"
   ]
  },
  {
   "cell_type": "code",
   "execution_count": null,
   "metadata": {
    "colab": {
     "base_uri": "https://localhost:8080/"
    },
    "id": "Hpg8qJC-oVV5",
    "outputId": "e50259db-d267-4806-a6bd-604e76951340"
   },
   "outputs": [
    {
     "name": "stdout",
     "output_type": "stream",
     "text": [
      "+---+---------------------+------+--------+--------+---+-----+----+------+------+----+-----+---+---+----+--------+---+---+---------+---------+---------+----------+--------+\n",
      "|_c0|trans_date_trans_time|cc_num|merchant|category|amt|first|last|gender|street|city|state|zip|lat|long|city_pop|job|dob|trans_num|unix_time|merch_lat|merch_long|is_fraud|\n",
      "+---+---------------------+------+--------+--------+---+-----+----+------+------+----+-----+---+---+----+--------+---+---+---------+---------+---------+----------+--------+\n",
      "|  0|                    0|     0|       0|       0|  0|    0|   0|     0|     0|   0|    0|  0|  0|   0|       0|  0|  0|        0|        0|        0|         0|       0|\n",
      "+---+---------------------+------+--------+--------+---+-----+----+------+------+----+-----+---+---+----+--------+---+---+---------+---------+---------+----------+--------+\n",
      "\n"
     ]
    }
   ],
   "source": [
    "missing_values = df.select([count(when(col(c).isNull(), c)).alias(c) for c in df.columns])\n",
    "missing_values.show()\n",
    "df = df.dropna()"
   ]
  },
  {
   "cell_type": "markdown",
   "metadata": {
    "id": "KSn3GP60ghIq"
   },
   "source": [
    "### Feature Engineering\n",
    "\n"
   ]
  },
  {
   "cell_type": "code",
   "execution_count": null,
   "metadata": {
    "id": "yrRgKfU8jWx8"
   },
   "outputs": [],
   "source": [
    "windowSpec = Window.partitionBy('category')\n",
    "df = df.withColumn(\n",
    "    'amt_vs_category_avg',\n",
    "    col('amt') / avg('amt').over(windowSpec)\n",
    ")"
   ]
  },
  {
   "cell_type": "code",
   "execution_count": null,
   "metadata": {
    "id": "Ktafafb2hEAY"
   },
   "outputs": [],
   "source": [
    "# Transforming the transaction date to datetime\n",
    "df = df.withColumn(\"trans_date\", F.to_timestamp(\"trans_date_trans_time\")) \\\n",
    "       .withColumn(\"hour\", F.hour(\"trans_date\")) \\\n",
    "       .withColumn(\"day_of_week\", F.dayofweek(\"trans_date\")) \\\n",
    "       .withColumn(\"month\", F.month(\"trans_date\")) \\\n",
    "       .withColumn(\"age\", F.year(\"trans_date\") - F.year(\"dob\"))"
   ]
  },
  {
   "cell_type": "markdown",
   "metadata": {
    "id": "RsRy2-n8f-SU"
   },
   "source": [
    "### Efficient Distance Calculation"
   ]
  },
  {
   "cell_type": "code",
   "execution_count": null,
   "metadata": {
    "colab": {
     "base_uri": "https://localhost:8080/"
    },
    "id": "dw-6PwsOgxIF",
    "outputId": "f647783d-f644-4171-ef8d-db722b280a48"
   },
   "outputs": [
    {
     "name": "stdout",
     "output_type": "stream",
     "text": [
      "Distance calc: 1.78 s\n"
     ]
    }
   ],
   "source": [
    "from pyspark.sql.functions import radians, sin, cos, sqrt, asin\n",
    "\n",
    "start = time.time()\n",
    "df = df.withColumn(\"lat_r\",  radians(\"lat\")) \\\n",
    "       .withColumn(\"lon_r\",  radians(\"long\")) \\\n",
    "       .withColumn(\"mlat_r\", radians(\"merch_lat\")) \\\n",
    "       .withColumn(\"mlon_r\", radians(\"merch_long\")) \\\n",
    "       .withColumn(\"dlat\",    col(\"lat_r\") - col(\"mlat_r\")) \\\n",
    "       .withColumn(\"dlon\",    col(\"lon_r\") - col(\"mlon_r\")) \\\n",
    "       .withColumn(\"a\",      sin(col(\"dlat\")/2)**2 \\\n",
    "                             + cos(col(\"lat_r\"))*cos(col(\"mlat_r\"))*sin(col(\"dlon\")/2)**2) \\\n",
    "       .withColumn(\"distance\", 2 * 6371 * asin(sqrt(col(\"a\")))) \\\n",
    "       .drop(\"lat_r\",\"lon_r\",\"mlat_r\",\"mlon_r\",\"dlat\",\"dlon\",\"a\")\n",
    "print(f\"Distance calc: {time.time() - start:.2f} s\")"
   ]
  },
  {
   "cell_type": "code",
   "execution_count": null,
   "metadata": {
    "colab": {
     "base_uri": "https://localhost:8080/"
    },
    "id": "StxgNu8NjhYm",
    "outputId": "602ff3d9-3752-44ef-ddb8-a80ab29c537f"
   },
   "outputs": [
    {
     "name": "stdout",
     "output_type": "stream",
     "text": [
      "✅ Finished preprocessing & cache: total rows = 1296675\n"
     ]
    }
   ],
   "source": [
    "df = df.cache()\n",
    "_  = df.count()   # trigger cache\n",
    "print(\"✅ Finished preprocessing & cache: total rows =\", df.count())"
   ]
  },
  {
   "cell_type": "markdown",
   "metadata": {
    "id": "dz5WwHW6qMy_"
   },
   "source": []
  },
  {
   "cell_type": "code",
   "execution_count": null,
   "metadata": {
    "colab": {
     "base_uri": "https://localhost:8080/"
    },
    "id": "_ZyWJQPEhRpw",
    "outputId": "d4397847-bb67-45c4-a32d-77ccab3e04ac"
   },
   "outputs": [
    {
     "name": "stdout",
     "output_type": "stream",
     "text": [
      "+---+---------------------+----------------+--------------------+-----------+------+---------+-------+------+--------------------+----------------+-----+-----+-------+------------------+--------+--------------------+----------+--------------------+----------+------------------+-----------+--------+-------------------+-------------------+----+-----------+-----+---+------------------+\n",
      "|_c0|trans_date_trans_time|          cc_num|            merchant|   category|   amt|    first|   last|gender|              street|            city|state|  zip|    lat|              long|city_pop|                 job|       dob|           trans_num| unix_time|         merch_lat| merch_long|is_fraud|amt_vs_category_avg|         trans_date|hour|day_of_week|month|age|          distance|\n",
      "+---+---------------------+----------------+--------------------+-----------+------+---------+-------+------+--------------------+----------------+-----+-----+-------+------------------+--------+--------------------+----------+--------------------+----------+------------------+-----------+--------+-------------------+-------------------+----+-----------+-----+---+------------------+\n",
      "|  1|  2019-01-01 00:00:44|    630423337322|fraud_Heller, Gut...|grocery_pos|107.23|Stephanie|   Gill|     F|43039 Riley Green...|          Orient|   WA|99160|48.8878|         -118.2105|     149|Special education...|1978-06-21|1f76529f857473494...|1325376044|49.159046999999994|-118.186462|       0|  0.916801437125463|2019-01-01 00:00:44|   0|          3|    1| 41|30.212175719210443|\n",
      "|  9|  2019-01-01 00:06:01|2720830304681674|fraud_Schoen, Kup...|grocery_pos|198.39|  Melissa|Aguilar|     F|21326 Taylor Squa...|     Clarksville|   TN|37040| 36.522|-87.34899999999999|  151785|         Pathologist|1974-03-28|3b9014ea8fb80bd65...|1325376361|         37.179198| -87.485381|       0|  1.696206631645254|2019-01-01 00:06:01|   0|          3|    1| 45|  74.0777504818213|\n",
      "| 10|  2019-01-01 00:06:23|   4642894980163|fraud_Rutherford-...|grocery_pos| 24.74|    Eddie| Mendez|     M|1831 Faith View S...|        Clarinda|   IA|51632|40.7491|           -95.038|    7297|          IT trainer|1990-07-13|d71c95ab6b7356dd7...|1325376383|40.275890999999994| -96.011548|       0|0.21152352470842073|2019-01-01 00:06:23|   0|          3|    1| 29| 97.68326577207269|\n",
      "| 12|  2019-01-01 00:06:56| 180042946491150|   fraud_Lockman Ltd|grocery_pos| 71.22|  Charles| Robles|     M|    3337 Lisa Divide|Saint Petersburg|   FL|33710|27.7898|          -82.7243|  341043|      Engineer, land|1989-02-28|c1d9a7ddb1e34639f...|1325376416|         27.630593| -82.308891|       0| 0.6089209955429962|2019-01-01 00:06:56|   0|          3|    1| 30| 44.56107983071175|\n",
      "| 13|  2019-01-01 00:07:27|5559857416065248|     fraud_Kiehn Inc|grocery_pos| 96.29|     Jack|   Hill|     M|5916 Susan Bridge...|         Grenada|   CA|96038|41.6125|         -122.5258|     589|     Systems analyst|1945-12-21|413636e759663f264...|1325376447|          41.65752|-122.230347|       0| 0.8232659738954662|2019-01-01 00:07:27|   0|          3|    1| 74|25.059079169313318|\n",
      "+---+---------------------+----------------+--------------------+-----------+------+---------+-------+------+--------------------+----------------+-----+-----+-------+------------------+--------+--------------------+----------+--------------------+----------+------------------+-----------+--------+-------------------+-------------------+----+-----------+-----+---+------------------+\n",
      "only showing top 5 rows\n",
      "\n"
     ]
    }
   ],
   "source": [
    "df.show(5)"
   ]
  },
  {
   "cell_type": "markdown",
   "metadata": {
    "id": "dAjFYFHX2E9l"
   },
   "source": [
    "### Auto choose best stragegy"
   ]
  },
  {
   "cell_type": "code",
   "execution_count": null,
   "metadata": {
    "colab": {
     "base_uri": "https://localhost:8080/"
    },
    "id": "-8HzZ5I72BGd",
    "outputId": "b1b11eca-83fd-49c4-bbd5-f3156d3bba4b"
   },
   "outputs": [
    {
     "name": "stdout",
     "output_type": "stream",
     "text": [
      "Fraud Ratio: 0.0058\n",
      "🚨 Severe imbalance detected. Using ClassWeight + Undersampling.\n"
     ]
    }
   ],
   "source": [
    "def auto_balance_strategy(df, label_col=\"is_fraud\", threshold_high=0.1, threshold_low=0.01):\n",
    "    from pyspark.sql import functions as F\n",
    "\n",
    "    majority_count = df.filter(F.col(label_col) == 0).count()\n",
    "    minority_count = df.filter(F.col(label_col) == 1).count()\n",
    "\n",
    "    fraud_ratio = minority_count / (majority_count + minority_count)\n",
    "    print(f\"Fraud Ratio: {fraud_ratio:.4f}\")\n",
    "\n",
    "    if fraud_ratio > threshold_high:\n",
    "        print(\"📈 Data is fairly balanced. No need to balance.\")\n",
    "        strategy = \"None\"\n",
    "    elif fraud_ratio > threshold_low:\n",
    "        print(\"⚖️  Moderate imbalance detected. Using ClassWeight.\")\n",
    "        strategy = \"ClassWeight\"\n",
    "    else:\n",
    "        print(\"🚨 Severe imbalance detected. Using ClassWeight + Undersampling.\")\n",
    "        strategy = \"ClassWeight+Undersampling\"\n",
    "\n",
    "    return strategy\n",
    "\n",
    "\n",
    "strategy = auto_balance_strategy(df)"
   ]
  },
  {
   "cell_type": "markdown",
   "metadata": {
    "id": "ZGOGD9_11KDs"
   },
   "source": [
    "### Process Imbalanced Data"
   ]
  },
  {
   "cell_type": "code",
   "execution_count": null,
   "metadata": {
    "colab": {
     "base_uri": "https://localhost:8080/"
    },
    "id": "TFDxrlQw1NAH",
    "outputId": "ba8d17dc-fb4b-4664-c763-49f11b27e101"
   },
   "outputs": [
    {
     "name": "stdout",
     "output_type": "stream",
     "text": [
      "Non-Fraud: 1289169 | Fraud: 7506\n",
      "Undersample fraction: 0.0582\n",
      "Balanced size: 82936 rows\n"
     ]
    }
   ],
   "source": [
    "dist_counts = df.groupBy(\"is_fraud\").count().collect()\n",
    "maj  = next(r['count'] for r in dist_counts if r['is_fraud']==0)\n",
    "minr = next(r['count'] for r in dist_counts if r['is_fraud']==1)\n",
    "print(f\"Non-Fraud: {maj} | Fraud: {minr}\")\n",
    "\n",
    "# 1.2) Undersample majority\n",
    "undersample_multiplier = 10\n",
    "fraction = min((undersample_multiplier * minr) / maj, 1.0)\n",
    "print(f\"Undersample fraction: {fraction:.4f}\")\n",
    "\n",
    "fraud_df    = df.filter(col(\"is_fraud\")==1)\n",
    "nonfraud_df = df.filter(col(\"is_fraud\")==0) \\\n",
    "                 .sample(withReplacement=False, fraction=fraction, seed=42)\n",
    "balanced_df = fraud_df.union(nonfraud_df)\n",
    "print(f\"Balanced size: {balanced_df.count()} rows\")\n",
    "\n",
    "# 1.3) Tính class weight\n",
    "bal_ratio = nonfraud_df.count() / fraud_df.count()\n",
    "balanced_df = balanced_df.withColumn(\n",
    "    \"classWeight\",\n",
    "    when(col(\"is_fraud\")==1, F.lit(bal_ratio)).otherwise(F.lit(1.0))\n",
    ")"
   ]
  },
  {
   "cell_type": "markdown",
   "metadata": {
    "id": "ofHUbGB6hEES"
   },
   "source": [
    "### Split train/test dataset\n"
   ]
  },
  {
   "cell_type": "code",
   "execution_count": null,
   "metadata": {
    "colab": {
     "base_uri": "https://localhost:8080/"
    },
    "id": "FSwiVqz_hCzl",
    "outputId": "b2300188-7d67-48d0-943e-7a5738a083d3"
   },
   "outputs": [
    {
     "name": "stdout",
     "output_type": "stream",
     "text": [
      "Train: 66098, Eval: 16838\n"
     ]
    }
   ],
   "source": [
    "train_df, eval_df = balanced_df.randomSplit([0.8, 0.2], seed=42)\n",
    "print(f\"Train: {train_df.count()}, Eval: {eval_df.count()}\")"
   ]
  },
  {
   "cell_type": "markdown",
   "metadata": {
    "id": "CbHf6TU3i7xy"
   },
   "source": [
    "### Encoding Categories"
   ]
  },
  {
   "cell_type": "code",
   "execution_count": null,
   "metadata": {
    "id": "UwIvzB0ohpnX"
   },
   "outputs": [],
   "source": [
    "categorical_cols = ['merchant','category','gender','job']\n",
    "indexers = [\n",
    "    StringIndexer(inputCol=c, outputCol=f\"{c}_idx\", handleInvalid=\"keep\")\n",
    "    for c in categorical_cols\n",
    "]\n",
    "\n",
    "feature_cols = [\n",
    "    'amt','city_pop','age','hour','month','day_of_week','distance','amt_vs_category_avg'\n",
    "] + [f\"{c}_idx\" for c in categorical_cols] # Changed _Indexer to _idx"
   ]
  },
  {
   "cell_type": "markdown",
   "metadata": {
    "id": "b9jWyBj0gdBX"
   },
   "source": [
    "### Assemble Features"
   ]
  },
  {
   "cell_type": "code",
   "execution_count": null,
   "metadata": {
    "id": "5beg8_lTosCw"
   },
   "outputs": [],
   "source": [
    "assembler = VectorAssembler(inputCols=feature_cols, outputCol=\"features\")"
   ]
  },
  {
   "cell_type": "markdown",
   "metadata": {
    "id": "_WpthgnUgCvy"
   },
   "source": [
    "### Define Evaluating Function"
   ]
  },
  {
   "cell_type": "code",
   "execution_count": null,
   "metadata": {
    "id": "GITdkj2Df8UZ"
   },
   "outputs": [],
   "source": [
    "def evaluate_model(predictions, model_name):\n",
    "    # Tính toán metrics\n",
    "    evaluator = BinaryClassificationEvaluator(labelCol=\"is_fraud\")\n",
    "    auc_roc = evaluator.evaluate(predictions, {evaluator.metricName: \"areaUnderROC\"})\n",
    "    auc_pr = evaluator.evaluate(predictions, {evaluator.metricName: \"areaUnderPR\"})\n",
    "\n",
    "    # Chuẩn bị dữ liệu cho visualization\n",
    "    pdf = predictions.select(\"is_fraud\", \"probability\").toPandas()\n",
    "    pdf['prob_fraud'] = pdf['probability'].apply(lambda x: x[1])\n",
    "    y_true = pdf['is_fraud']\n",
    "    y_prob = pdf['prob_fraud']\n",
    "\n",
    "    # Visualization\n",
    "    plt.figure(figsize=(15, 4))\n",
    "\n",
    "    # ROC Curve\n",
    "    plt.subplot(1, 3, 1)\n",
    "    fpr, tpr, _ = roc_curve(y_true, y_prob)\n",
    "    roc_auc = auc(fpr, tpr)\n",
    "    plt.plot(fpr, tpr, color='darkorange', lw=2, label=f'AUC = {roc_auc:.2f}')\n",
    "    plt.plot([0, 1], [0, 1], color='navy', linestyle='--')\n",
    "    plt.title(f'{model_name} ROC Curve')\n",
    "    plt.legend(loc=\"lower right\")\n",
    "\n",
    "    # PR Curve\n",
    "    plt.subplot(1, 3, 2)\n",
    "    precision, recall, _ = precision_recall_curve(y_true, y_prob)\n",
    "    pr_auc = auc(recall, precision)\n",
    "    plt.plot(recall, precision, color='blue', lw=2, label=f'AUC = {pr_auc:.2f}')\n",
    "    plt.title(f'{model_name} PR Curve')\n",
    "    plt.legend(loc=\"upper right\")\n",
    "\n",
    "    # Confusion Matrix\n",
    "    plt.subplot(1, 3, 3)\n",
    "    y_pred = np.where(y_prob >= 0.5, 1, 0)\n",
    "    cm = confusion_matrix(y_true, y_pred)\n",
    "    sns.heatmap(cm, annot=True, fmt='d', cmap='Blues')\n",
    "    plt.title(f'{model_name} Confusion Matrix')\n",
    "\n",
    "    plt.tight_layout()\n",
    "    plt.show()\n",
    "\n",
    "    # Print metrics\n",
    "    tn, fp, fn, tp = cm.ravel()\n",
    "    print(f\"\\n{model_name} Metrics:\")\n",
    "    print(f\"AUC-ROC: {auc_roc:.4f}\")\n",
    "    print(f\"AUC-PR: {auc_pr:.4f}\")\n",
    "    print(f\"Precision: {tp/(tp+fp):.4f}\")\n",
    "    print(f\"Recall: {tp/(tp+fn):.4f}\")\n",
    "    print(f\"F1-Score: {2*(tp/(tp+fp))*(tp/(tp+fn))/(tp/(tp+fp)+tp/(tp+fn)):.4f}\")"
   ]
  },
  {
   "cell_type": "markdown",
   "metadata": {
    "id": "OkplYHaalXOE"
   },
   "source": [
    "### Define Evaluator"
   ]
  },
  {
   "cell_type": "code",
   "execution_count": null,
   "metadata": {
    "id": "Lwn-856_lWLe"
   },
   "outputs": [],
   "source": [
    "# Define Evaluator\n",
    "evaluator_roc = BinaryClassificationEvaluator(\n",
    "    labelCol=\"is_fraud\",\n",
    "    rawPredictionCol=\"probability\",\n",
    "    metricName=\"areaUnderROC\"\n",
    ")\n",
    "evaluator_pr = BinaryClassificationEvaluator(\n",
    "    labelCol=\"is_fraud\",\n",
    "    rawPredictionCol=\"probability\",\n",
    "    metricName=\"areaUnderPR\"\n",
    ")"
   ]
  },
  {
   "cell_type": "markdown",
   "metadata": {
    "id": "76saIASsgSYH"
   },
   "source": [
    "### Random Forest"
   ]
  },
  {
   "cell_type": "code",
   "execution_count": null,
   "metadata": {
    "colab": {
     "base_uri": "https://localhost:8080/",
     "height": 450
    },
    "id": "6CcGPSorghEY",
    "outputId": "26466000-b17b-48e8-99ae-3cc779299212"
   },
   "outputs": [
    {
     "name": "stdout",
     "output_type": "stream",
     "text": [
      "🔧 RF training time: 3086.86 s\n"
     ]
    },
    {
     "data": {
      "image/png": "[encoded data removed]",
      "text/plain": [
       "<Figure size 1500x400 with 4 Axes>"
      ]
     },
     "metadata": {},
     "output_type": "display_data"
    },
    {
     "name": "stdout",
     "output_type": "stream",
     "text": [
      "\n",
      "Random Forest Metrics:\n",
      "AUC-ROC: 0.9939\n",
      "AUC-PR: 0.9597\n",
      "Precision: 0.9141\n",
      "Recall: 0.8945\n",
      "F1-Score: 0.9042\n"
     ]
    }
   ],
   "source": [
    "# Model\n",
    "rf = RandomForestClassifier(\n",
    "    labelCol=\"is_fraud\",\n",
    "    featuresCol=\"features\",\n",
    "    weightCol=\"classWeight\",\n",
    "    seed=42,\n",
    "    maxBins = 1000\n",
    ")\n",
    "\n",
    "# Param grid\n",
    "rf_param_grid = (ParamGridBuilder()\n",
    "                 .addGrid(rf.numTrees, [50, 100])\n",
    "                 .addGrid(rf.maxDepth, [5, 10])\n",
    "                 .addGrid(rf.maxBins, [1000, 2000])\n",
    "                 .build())\n",
    "\n",
    "# Pipeline\n",
    "rf_pipeline = Pipeline(stages=indexers + [assembler, rf])\n",
    "\n",
    "\n",
    "\n",
    "# Cross-validator\n",
    "rf_cv = CrossValidator(\n",
    "    estimator=rf_pipeline,\n",
    "    estimatorParamMaps=rf_param_grid,\n",
    "    evaluator=evaluator_pr,\n",
    "    numFolds=3,\n",
    "    parallelism=4,\n",
    "    seed=42\n",
    ")\n",
    "\n",
    "# Train\n",
    "start = time.time()\n",
    "rf_model = rf_cv.fit(train_df)\n",
    "print(f\"🔧 RF training time: {time.time() - start:.2f} s\")\n",
    "\n",
    "# Đánh giá\n",
    "rf_predictions = rf_model.transform(eval_df)\n",
    "evaluate_model(rf_predictions, \"Random Forest\")"
   ]
  },
  {
   "cell_type": "markdown",
   "metadata": {
    "id": "r2ETuzwShVRk"
   },
   "source": [
    "### GBT Algorithm"
   ]
  },
  {
   "cell_type": "code",
   "execution_count": null,
   "metadata": {
    "colab": {
     "base_uri": "https://localhost:8080/",
     "height": 450
    },
    "id": "egUFjhjehJN6",
    "outputId": "7f31394c-71c8-45fc-baa3-9e4a0f58831a"
   },
   "outputs": [
    {
     "name": "stdout",
     "output_type": "stream",
     "text": [
      "🔧 GBT training time: 1256.34 s\n"
     ]
    },
    {
     "data": {
      "image/png": "[encoded data removed]",
      "text/plain": [
       "<Figure size 1500x400 with 4 Axes>"
      ]
     },
     "metadata": {},
     "output_type": "display_data"
    },
    {
     "name": "stdout",
     "output_type": "stream",
     "text": [
      "\n",
      "GBT Metrics:\n",
      "AUC-ROC: 0.9866\n",
      "AUC-PR: 0.9228\n",
      "Precision: 0.7374\n",
      "Recall: 0.9227\n",
      "F1-Score: 0.8197\n"
     ]
    }
   ],
   "source": [
    "from pyspark.ml.classification import GBTClassifier\n",
    "\n",
    "gbt = GBTClassifier(\n",
    "    labelCol=\"is_fraud\",\n",
    "    featuresCol=\"features\",\n",
    "    weightCol=\"classWeight\",\n",
    "    maxIter=50,\n",
    "    maxDepth=5,\n",
    "    seed=42,\n",
    "    maxBins=1000 # Increased maxBins to accommodate the categorical feature with 694 values\n",
    ")\n",
    "\n",
    "gbt_param_grid = (ParamGridBuilder()\n",
    "    .addGrid(gbt.maxIter,  [20,50])\n",
    "    .addGrid(gbt.maxDepth, [3, 5])\n",
    "    .build()\n",
    ")\n",
    "\n",
    "gbt_pipeline = Pipeline(stages=indexers + [assembler, gbt])\n",
    "gbt_cv = TrainValidationSplit(\n",
    "    estimator=gbt_pipeline,\n",
    "    estimatorParamMaps=gbt_param_grid,\n",
    "    evaluator=evaluator_pr,\n",
    "    trainRatio=0.8,\n",
    "    parallelism=2,\n",
    "    seed=42\n",
    ")\n",
    "\n",
    "start = time.time()\n",
    "gbt_model = gbt_cv.fit(train_df)\n",
    "print(f\"🔧 GBT training time: {time.time() - start:.2f} s\")\n",
    "\n",
    "# Đánh giá\n",
    "gbt_predictions = gbt_model.transform(eval_df)\n",
    "evaluate_model(gbt_predictions, \"GBT\")"
   ]
  },
  {
   "cell_type": "code",
   "execution_count": null,
   "metadata": {
    "id": "TtU1R8Mkhat9"
   },
   "outputs": [],
   "source": [
    "results = {\n",
    "    \"Random Forest\": {\n",
    "        \"AUC-ROC\": evaluator_pr.evaluate(rf_predictions, {evaluator_pr.metricName: \"areaUnderROC\"}),\n",
    "        \"AUC-PR\": evaluator_pr.evaluate(rf_predictions, {evaluator_pr.metricName: \"areaUnderPR\"})\n",
    "    },\n",
    "    \"GBT\": {\n",
    "        \"AUC-ROC\": evaluator_pr.evaluate(gbt_predictions, {evaluator_pr.metricName: \"areaUnderROC\"}),\n",
    "        \"AUC-PR\": evaluator_pr.evaluate(gbt_predictions, {evaluator_pr.metricName: \"areaUnderPR\"})\n",
    "    }\n",
    "}"
   ]
  },
  {
   "cell_type": "code",
   "execution_count": null,
   "metadata": {
    "colab": {
     "base_uri": "https://localhost:8080/",
     "height": 507
    },
    "id": "gGUduMXVi9Pl",
    "outputId": "ceb94c16-9dd8-4ca2-d752-78c0b1e97545"
   },
   "outputs": [
    {
     "data": {
      "image/png": "[encoded data removed]",
      "text/plain": [
       "<Figure size 1000x500 with 2 Axes>"
      ]
     },
     "metadata": {},
     "output_type": "display_data"
    }
   ],
   "source": [
    "# Vẽ biểu đồ so sánh\n",
    "plt.figure(figsize=(10, 5))\n",
    "models = list(results.keys())\n",
    "roc_values = [results[m][\"AUC-ROC\"] for m in models]\n",
    "pr_values = [results[m][\"AUC-PR\"] for m in models]\n",
    "\n",
    "plt.subplot(1, 2, 1)\n",
    "plt.bar(models, roc_values, color=['blue', 'orange'])\n",
    "plt.title(\"AUC-ROC Comparison\")\n",
    "plt.ylim(0.9, 1.0)\n",
    "\n",
    "plt.subplot(1, 2, 2)\n",
    "plt.bar(models, pr_values, color=['green', 'red'])\n",
    "plt.title(\"AUC-PR Comparison\")\n",
    "plt.ylim(0.9, 1.0)\n",
    "\n",
    "plt.tight_layout()\n",
    "plt.show()"
   ]
  },
  {
   "cell_type": "code",
   "execution_count": null,
   "metadata": {
    "id": "-hC6KbNyjcep"
   },
   "outputs": [],
   "source": [
    "# Save the Random Forest model\n",
    "rf_model.bestModel.save(\"/content/drive/MyDrive/rf_model\")\n",
    "\n",
    "# Save the GBT model\n",
    "gbt_model.bestModel.save(\"/content/drive/MyDrive/gbt_model\")"
   ]
  },
  {
   "cell_type": "code",
   "execution_count": null,
   "metadata": {
    "id": "a43wbRGMjhpn"
   },
   "outputs": [],
   "source": []
  }
 ],
 "metadata": {
  "colab": {
   "provenance": []
  },
  "kernelspec": {
   "display_name": "Python 3",
   "name": "python3"
  },
  "language_info": {
   "name": "python"
  }
 },
 "nbformat": 4,
 "nbformat_minor": 0
}
